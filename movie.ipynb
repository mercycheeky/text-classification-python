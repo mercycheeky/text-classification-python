{
  "nbformat": 4,
  "nbformat_minor": 0,
  "metadata": {
    "colab": {
      "provenance": []
    },
    "kernelspec": {
      "name": "python3",
      "display_name": "Python 3"
    },
    "language_info": {
      "name": "python"
    }
  },
  "cells": [
    {
      "cell_type": "code",
      "execution_count": 2,
      "metadata": {
        "id": "5Njg5dtTHQs0"
      },
      "outputs": [],
      "source": [
        "import nltk.classify #Create a python file and import the following packages.\n",
        "\n"
      ]
    },
    {
      "cell_type": "code",
      "source": [
        "from nltk.classify import NaiveBayesClassifier"
      ],
      "metadata": {
        "id": "hbruEkGvJYrk"
      },
      "execution_count": 3,
      "outputs": []
    },
    {
      "cell_type": "code",
      "source": [
        "from nltk.corpus import movie_reviews"
      ],
      "metadata": {
        "id": "aes6KrrNJZ4H"
      },
      "execution_count": 4,
      "outputs": []
    },
    {
      "cell_type": "code",
      "source": [
        "def extract_features(word_list):\n",
        " return dict([(word, True) for word in word_list]) #define a function to extract the features of the data"
      ],
      "metadata": {
        "id": "WaAL0u5jJdOH"
      },
      "execution_count": 6,
      "outputs": []
    },
    {
      "cell_type": "code",
      "source": [
        " # Load positive and negative reviews \n",
        "     # To get the training data, use the following movie reviews from NLTK.\n",
        "if __name__=='__main__':\n",
        "positive_fileids = movie_reviews.fileids('pos')\n",
        "negative_fileids = movie_reviews.fileids('neg')"
      ],
      "metadata": {
        "id": "JNsRP8RLKBlw"
      },
      "execution_count": 9,
      "outputs": []
    },
    {
      "cell_type": "code",
      "source": [
        "import nltk\n",
        "nltk.download('movie_reviews')"
      ],
      "metadata": {
        "colab": {
          "base_uri": "https://localhost:8080/"
        },
        "id": "ITmH26ApKMkD",
        "outputId": "a4c5403a-bfd6-4dbe-801f-8af8fc746197"
      },
      "execution_count": 8,
      "outputs": [
        {
          "output_type": "stream",
          "name": "stderr",
          "text": [
            "[nltk_data] Downloading package movie_reviews to /root/nltk_data...\n",
            "[nltk_data]   Unzipping corpora/movie_reviews.zip.\n"
          ]
        },
        {
          "output_type": "execute_result",
          "data": {
            "text/plain": [
              "True"
            ]
          },
          "metadata": {},
          "execution_count": 8
        }
      ]
    },
    {
      "cell_type": "code",
      "source": [
        "features_positive = [(extract_features(movie_reviews.words(fileids=[f])),'Positive') for f in positive_fileids] #Now we will separate the positive and negative reviews.\n",
        "features_negative = [(extract_features(movie_reviews.words(fileids=[f])),'Negative') for f in negative_fileids]"
      ],
      "metadata": {
        "id": "qz4ICcmDKjnd"
      },
      "execution_count": 10,
      "outputs": []
    },
    {
      "cell_type": "code",
      "source": [
        "# Split the data into train and test (80/20)\n",
        "threshold_factor = 0.8\n",
        "threshold_positive = int(threshold_factor * len(features_positive))\n",
        "threshold_negative = int(threshold_factor * len(features_negative))"
      ],
      "metadata": {
        "id": "h-rpdIbcK10h"
      },
      "execution_count": 11,
      "outputs": []
    },
    {
      "cell_type": "code",
      "source": [
        "features_train = features_positive[:threshold_positive]+features_negative[:threshold_negative] #Extract the features.\n",
        "features_test = features_positive[threshold_positive:]+features_negative[threshold_negative:]\n",
        "\n",
        "print(\"Number of training datapoints: \", len(features_train))\n",
        "print(\"Number of test datapoints: \", len(features_test)) "
      ],
      "metadata": {
        "colab": {
          "base_uri": "https://localhost:8080/"
        },
        "id": "O4EpDzpKK9pf",
        "outputId": "adc572e6-8a0a-47a6-b075-5cb4bd21199f"
      },
      "execution_count": 12,
      "outputs": [
        {
          "output_type": "stream",
          "name": "stdout",
          "text": [
            "Number of training datapoints:  1600\n",
            "Number of test datapoints:  400\n"
          ]
        }
      ]
    },
    {
      "cell_type": "code",
      "source": [
        "#Use the Navie Bayes classifier. Define the object and train it.\n",
        "classifier = NaiveBayesClassifier.train(features_train)\n",
        "print(\"Accuracy of the classifier: \", nltk.classify.util.accuracy(classifier, features_test))"
      ],
      "metadata": {
        "colab": {
          "base_uri": "https://localhost:8080/"
        },
        "id": "Sy-pBYJmLC1q",
        "outputId": "3a1623db-f7d9-4c01-b1de-7bc4215750a7"
      },
      "execution_count": 14,
      "outputs": [
        {
          "output_type": "stream",
          "name": "stdout",
          "text": [
            "Accuracy of the classifier:  0.735\n"
          ]
        }
      ]
    },
    {
      "cell_type": "code",
      "source": [
        "#To find out the most informative words inside the classifier which decides a review is positive or negative, print the following.\n",
        "print(\"Top ten most informative words: \")\n",
        "\n",
        "for item in classifier.most_informative_features()[:10]:\n",
        "    print(item[0])"
      ],
      "metadata": {
        "colab": {
          "base_uri": "https://localhost:8080/"
        },
        "id": "PlUU_mbsLqu6",
        "outputId": "bfdd8310-1a35-4324-b5e6-9dae03b3d1a5"
      },
      "execution_count": 15,
      "outputs": [
        {
          "output_type": "stream",
          "name": "stdout",
          "text": [
            "Top ten most informative words: \n",
            "outstanding\n",
            "insulting\n",
            "vulnerable\n",
            "ludicrous\n",
            "uninvolving\n",
            "astounding\n",
            "avoids\n",
            "fascination\n",
            "affecting\n",
            "animators\n"
          ]
        }
      ]
    },
    {
      "cell_type": "code",
      "source": [
        "#Sample input reviews\n",
        "# Create some random movie reviews of your own.\n",
        "input_reviews = [\n",
        "    \"Started off as the greatest series of all time, but had the worst ending of all time.\",\n",
        "    \"Exquisite. 'Big Little Lies' takes us to an incredible journey with its emotional and intriguing storyline.\",\n",
        "    \"I love Brooklyn 99 so much. It has the best crew ever!!\",\n",
        "    \"The Big Bang Theory and to me it's one of the best written sitcoms currently on network TV.\",\n",
        "    \"'Friends' is simply the best series ever aired. The acting is amazing.\",\n",
        "    \"SUITS is smart, sassy, clever, sophisticated, timely and immensely entertaining!\",\n",
        "    \"Cumberbatch is a fantastic choice for Sherlock Holmes-he is physically right (he fits the traditional reading of the character) and he is a damn good actor\",\n",
        "    \"What sounds like a typical agent hunting serial killer, surprises with great characters, surprising turning points and amazing cast.\"\n",
        "    \"This is one of the most magical things I have ever had the fortune of viewing.\",\n",
        "    \"I don't recommend watching this at all!\"\n",
        "]"
      ],
      "metadata": {
        "id": "DlpwSeNNLvF8"
      },
      "execution_count": 16,
      "outputs": []
    },
    {
      "cell_type": "code",
      "source": [
        "#run the classifier on those sentences and obtain the predictions.\n",
        "print(\"Predictions: \")\n",
        "\n",
        "for review in input_reviews:\n",
        "    print(\"\\nReview:\", review)\n",
        "    probdist = classifier.prob_classify(extract_features(review.split()))\n",
        "    pred_sentiment = probdist.max()"
      ],
      "metadata": {
        "colab": {
          "base_uri": "https://localhost:8080/"
        },
        "id": "cDX1Dm65L3OG",
        "outputId": "65139615-f506-460d-d7a1-b88026f0d462"
      },
      "execution_count": 17,
      "outputs": [
        {
          "output_type": "stream",
          "name": "stdout",
          "text": [
            "Predictions: \n",
            "\n",
            "Review: Started off as the greatest series of all time, but had the worst ending of all time.\n",
            "\n",
            "Review: Exquisite. 'Big Little Lies' takes us to an incredible journey with its emotional and intriguing storyline.\n",
            "\n",
            "Review: I love Brooklyn 99 so much. It has the best crew ever!!\n",
            "\n",
            "Review: The Big Bang Theory and to me it's one of the best written sitcoms currently on network TV.\n",
            "\n",
            "Review: 'Friends' is simply the best series ever aired. The acting is amazing.\n",
            "\n",
            "Review: SUITS is smart, sassy, clever, sophisticated, timely and immensely entertaining!\n",
            "\n",
            "Review: Cumberbatch is a fantastic choice for Sherlock Holmes-he is physically right (he fits the traditional reading of the character) and he is a damn good actor\n",
            "\n",
            "Review: What sounds like a typical agent hunting serial killer, surprises with great characters, surprising turning points and amazing cast.This is one of the most magical things I have ever had the fortune of viewing.\n",
            "\n",
            "Review: I don't recommend watching this at all!\n"
          ]
        }
      ]
    },
    {
      "cell_type": "code",
      "source": [
        "#Tada! It’s done. Now you can print the output.\n",
        "print(\"Predictions: \")\n",
        "\n",
        "for review in input_reviews:\n",
        "    print(\"\\nReview:\", review)\n",
        "    probdist = classifier.prob_classify(extract_features(review.split()))\n",
        "    pred_sentiment = probdist.max()\n",
        "    print(\"Predicted sentiment: \", pred_sentiment)\n",
        "    print(\"Probability: \", round(probdist.prob(pred_sentiment), 2))"
      ],
      "metadata": {
        "colab": {
          "base_uri": "https://localhost:8080/"
        },
        "id": "79_Z3gJQMZ0Z",
        "outputId": "5b7363f4-837e-4e69-c953-66aad2e40c3c"
      },
      "execution_count": 18,
      "outputs": [
        {
          "output_type": "stream",
          "name": "stdout",
          "text": [
            "Predictions: \n",
            "\n",
            "Review: Started off as the greatest series of all time, but had the worst ending of all time.\n",
            "Predicted sentiment:  Negative\n",
            "Probability:  0.64\n",
            "\n",
            "Review: Exquisite. 'Big Little Lies' takes us to an incredible journey with its emotional and intriguing storyline.\n",
            "Predicted sentiment:  Positive\n",
            "Probability:  0.89\n",
            "\n",
            "Review: I love Brooklyn 99 so much. It has the best crew ever!!\n",
            "Predicted sentiment:  Negative\n",
            "Probability:  0.51\n",
            "\n",
            "Review: The Big Bang Theory and to me it's one of the best written sitcoms currently on network TV.\n",
            "Predicted sentiment:  Positive\n",
            "Probability:  0.62\n",
            "\n",
            "Review: 'Friends' is simply the best series ever aired. The acting is amazing.\n",
            "Predicted sentiment:  Positive\n",
            "Probability:  0.55\n",
            "\n",
            "Review: SUITS is smart, sassy, clever, sophisticated, timely and immensely entertaining!\n",
            "Predicted sentiment:  Positive\n",
            "Probability:  0.82\n",
            "\n",
            "Review: Cumberbatch is a fantastic choice for Sherlock Holmes-he is physically right (he fits the traditional reading of the character) and he is a damn good actor\n",
            "Predicted sentiment:  Positive\n",
            "Probability:  1.0\n",
            "\n",
            "Review: What sounds like a typical agent hunting serial killer, surprises with great characters, surprising turning points and amazing cast.This is one of the most magical things I have ever had the fortune of viewing.\n",
            "Predicted sentiment:  Positive\n",
            "Probability:  0.95\n",
            "\n",
            "Review: I don't recommend watching this at all!\n",
            "Predicted sentiment:  Negative\n",
            "Probability:  0.53\n"
          ]
        }
      ]
    },
    {
      "cell_type": "code",
      "source": [],
      "metadata": {
        "id": "3ZHvodXaMfu5"
      },
      "execution_count": null,
      "outputs": []
    }
  ]
}